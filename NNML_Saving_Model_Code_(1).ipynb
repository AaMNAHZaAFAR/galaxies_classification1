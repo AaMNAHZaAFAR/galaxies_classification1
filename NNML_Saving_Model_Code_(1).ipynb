{
  "cells": [
    {
      "cell_type": "code",
      "execution_count": null,
      "metadata": {
        "id": "lQrDDC-QoAX6"
      },
      "outputs": [],
      "source": [
        "%config Application.iopub_data_rate_limit=10000000 #for increasing the buffer limit to upload images\n"
      ]
    },
    {
      "cell_type": "code",
      "source": [
        "#module import \n",
        "\n",
        "import tensorflow as tf\n",
        "from __future__ import print_function\n",
        "\n",
        "from PIL import Image\n",
        "from multiprocessing import Pool\n",
        "import warnings\n",
        "import numpy as np \n",
        "import pandas as pd \n",
        "import matplotlib.pyplot as plt\n",
        "import os\n",
        "\n",
        "\n",
        "from keras.models import Model\n",
        "from keras.layers import Flatten\n",
        "from keras.layers import Dense\n",
        "from keras.layers import Input\n",
        "from keras.layers import Conv2D\n",
        "from keras.layers import MaxPooling2D\n",
        "from keras.layers import GlobalMaxPooling2D\n",
        "from keras.layers import GlobalAveragePooling2D\n",
        "from keras.preprocessing import image\n",
        "from keras.utils import layer_utils\n",
        "from keras.utils.data_utils import get_file\n",
        "from keras import backend as K\n",
        "from keras.applications.imagenet_utils import decode_predictions\n",
        "from keras.applications.imagenet_utils import preprocess_input\n",
        "from sklearn.preprocessing import LabelEncoder , OneHotEncoder\n",
        "from keras.optimizers import Adam\n",
        "\n",
        "#from keras.applications.imagenet_utils import _obtain_input_shape # this will work for older versions of keras. 2.2.0 or before\n",
        "#from keras.engine.topology import get_source_inputs"
      ],
      "metadata": {
        "id": "BukwsAOh-rQb"
      },
      "execution_count": null,
      "outputs": []
    },
    {
      "cell_type": "code",
      "execution_count": null,
      "metadata": {
        "id": "GpNJxY1eoJP3"
      },
      "outputs": [],
      "source": [
        "# Dummy Model Code\n",
        "\n",
        "#our_model = tf.keras.Sequential([tf.keras.layers.Input(shape=(64,)),\n",
        "                                #tf.keras.layers.Dense(1)])\n",
        "\n",
        "#model creation from scratch\n",
        "\n",
        "def galaxy(input_tensor=None,classes=2): \n",
        "    ''' this function will create a VGG16 convolutional neural network '''   \n",
        "   \n",
        "    img_rows, img_cols = 224, 224   # by default size is 224,224\n",
        "    img_channels = 1\n",
        "\n",
        "    img_dim = (img_rows, img_cols, img_channels)\n",
        "   \n",
        "    img_input = Input(shape=img_dim)\n",
        "    \n",
        "    # Block 1\n",
        "    x = Conv2D(64, (3, 3), activation='relu', padding='same', name='block1_conv1')(img_input)\n",
        "    x = Conv2D(64, (3, 3), activation='relu', padding='same', name='block1_conv2')(x)\n",
        "    x = MaxPooling2D((2, 2), strides=(2, 2), name='block1_pool')(x)\n",
        "\n",
        "    # Block 2\n",
        "    x = Conv2D(128, (3, 3), activation='relu', padding='same', name='block2_conv1')(x)\n",
        "    x = Conv2D(128, (3, 3), activation='relu', padding='same', name='block2_conv2')(x)\n",
        "    x = MaxPooling2D((2, 2), strides=(2, 2), name='block2_pool')(x)\n",
        "\n",
        "    # Block 3\n",
        "    x = Conv2D(256, (3, 3), activation='relu', padding='same', name='block3_conv1')(x)\n",
        "    x = Conv2D(256, (3, 3), activation='relu', padding='same', name='block3_conv2')(x)\n",
        "    x = Conv2D(256, (3, 3), activation='relu', padding='same', name='block3_conv3')(x)\n",
        "    x = MaxPooling2D((2, 2), strides=(2, 2), name='block3_pool')(x)\n",
        "\n",
        "    # Block 4\n",
        "    x = Conv2D(512, (3, 3), activation='relu', padding='same', name='block4_conv1')(x)\n",
        "    x = Conv2D(512, (3, 3), activation='relu', padding='same', name='block4_conv2')(x)\n",
        "    x = Conv2D(512, (3, 3), activation='relu', padding='same', name='block4_conv3')(x)\n",
        "    x = MaxPooling2D((2, 2), strides=(2, 2), name='block4_pool')(x)\n",
        "\n",
        "    # Block 5\n",
        "    x = Conv2D(512, (3, 3), activation='relu', padding='same', name='block5_conv1')(x)\n",
        "    x = Conv2D(512, (3, 3), activation='relu', padding='same', name='block5_conv2')(x)\n",
        "    x = Conv2D(512, (3, 3), activation='relu', padding='same', name='block5_conv3')(x)\n",
        "    x = MaxPooling2D((2, 2), strides=(2, 2), name='block5_pool')(x)\n",
        "\n",
        "    \n",
        "    # Classification block\n",
        "    x = Flatten(name='flatten')(x)\n",
        "    x = Dense(4096, activation='relu', name='fc1')(x)\n",
        "    x = Dense(4096, activation='relu', name='fc2')(x)\n",
        "    x = Dense(classes, activation='softmax', name='predictions')(x)\n",
        "\n",
        "    # Create model.\n",
        "   \n",
        "     \n",
        "    model = Model(inputs = img_input, outputs = x, name='galaxy')\n",
        "\n",
        "\n",
        "    return model\n"
      ]
    },
    {
      "cell_type": "code",
      "execution_count": null,
      "metadata": {
        "id": "9vdMzYvOJgEr",
        "colab": {
          "base_uri": "https://localhost:8080/"
        },
        "outputId": "139481de-4d95-44e7-d031-674ab27ebf7f"
      },
      "outputs": [
        {
          "output_type": "stream",
          "name": "stdout",
          "text": [
            "Model: \"galaxy\"\n",
            "_________________________________________________________________\n",
            " Layer (type)                Output Shape              Param #   \n",
            "=================================================================\n",
            " input_1 (InputLayer)        [(None, 224, 224, 1)]     0         \n",
            "                                                                 \n",
            " block1_conv1 (Conv2D)       (None, 224, 224, 64)      640       \n",
            "                                                                 \n",
            " block1_conv2 (Conv2D)       (None, 224, 224, 64)      36928     \n",
            "                                                                 \n",
            " block1_pool (MaxPooling2D)  (None, 112, 112, 64)      0         \n",
            "                                                                 \n",
            " block2_conv1 (Conv2D)       (None, 112, 112, 128)     73856     \n",
            "                                                                 \n",
            " block2_conv2 (Conv2D)       (None, 112, 112, 128)     147584    \n",
            "                                                                 \n",
            " block2_pool (MaxPooling2D)  (None, 56, 56, 128)       0         \n",
            "                                                                 \n",
            " block3_conv1 (Conv2D)       (None, 56, 56, 256)       295168    \n",
            "                                                                 \n",
            " block3_conv2 (Conv2D)       (None, 56, 56, 256)       590080    \n",
            "                                                                 \n",
            " block3_conv3 (Conv2D)       (None, 56, 56, 256)       590080    \n",
            "                                                                 \n",
            " block3_pool (MaxPooling2D)  (None, 28, 28, 256)       0         \n",
            "                                                                 \n",
            " block4_conv1 (Conv2D)       (None, 28, 28, 512)       1180160   \n",
            "                                                                 \n",
            " block4_conv2 (Conv2D)       (None, 28, 28, 512)       2359808   \n",
            "                                                                 \n",
            " block4_conv3 (Conv2D)       (None, 28, 28, 512)       2359808   \n",
            "                                                                 \n",
            " block4_pool (MaxPooling2D)  (None, 14, 14, 512)       0         \n",
            "                                                                 \n",
            " block5_conv1 (Conv2D)       (None, 14, 14, 512)       2359808   \n",
            "                                                                 \n",
            " block5_conv2 (Conv2D)       (None, 14, 14, 512)       2359808   \n",
            "                                                                 \n",
            " block5_conv3 (Conv2D)       (None, 14, 14, 512)       2359808   \n",
            "                                                                 \n",
            " block5_pool (MaxPooling2D)  (None, 7, 7, 512)         0         \n",
            "                                                                 \n",
            " flatten (Flatten)           (None, 25088)             0         \n",
            "                                                                 \n",
            " fc1 (Dense)                 (None, 4096)              102764544 \n",
            "                                                                 \n",
            " fc2 (Dense)                 (None, 4096)              16781312  \n",
            "                                                                 \n",
            " predictions (Dense)         (None, 2)                 8194      \n",
            "                                                                 \n",
            "=================================================================\n",
            "Total params: 134,267,586\n",
            "Trainable params: 134,267,586\n",
            "Non-trainable params: 0\n",
            "_________________________________________________________________\n"
          ]
        }
      ],
      "source": [
        " model = galaxy(classes = 2) #real and fake images of galaxies\n",
        "model.summary()       "
      ]
    },
    {
      "cell_type": "code",
      "execution_count": null,
      "metadata": {
        "colab": {
          "base_uri": "https://localhost:8080/"
        },
        "id": "bZkXLrkcqaPb",
        "outputId": "e7c36e8d-c2dc-4a12-a612-f05f70dc4acb"
      },
      "outputs": [
        {
          "output_type": "stream",
          "name": "stdout",
          "text": [
            "Mounted at /content/drive\n"
          ]
        }
      ],
      "source": [
        "#mounting drive to access dataset\n",
        "from google.colab import drive  \n",
        "drive.mount('/content/drive')"
      ]
    },
    {
      "cell_type": "code",
      "execution_count": null,
      "metadata": {
        "colab": {
          "base_uri": "https://localhost:8080/"
        },
        "id": "ExRheyIC0aiL",
        "outputId": "2fe51827-ebcc-4160-f8ac-ee84abdfba1c"
      },
      "outputs": [
        {
          "output_type": "stream",
          "name": "stdout",
          "text": [
            "/content/drive/MyDrive/Group_Project_Data\n"
          ]
        }
      ],
      "source": [
        "os.chdir('/content/drive/MyDrive/Group_Project_Data')\n",
        "print(os.getcwd())"
      ]
    },
    {
      "cell_type": "code",
      "execution_count": null,
      "metadata": {
        "colab": {
          "base_uri": "https://localhost:8080/"
        },
        "id": "Ipe5tQZMKQlK",
        "outputId": "6eef7889-0324-48cf-c544-1ba04276ca2f"
      },
      "outputs": [
        {
          "output_type": "stream",
          "name": "stdout",
          "text": [
            "Types of galaxies images found: 2\n",
            "['Fake', 'Real']\n",
            "Types of galaxies images found in validation folder: 2\n",
            "['Real', 'Fake']\n"
          ]
        }
      ],
      "source": [
        "#getting path to the dataset provided\n",
        "#loaded dataset into googledrive and given the path\n",
        "# there was a hidden folder '.lost Dir'which was created itself for keeping attributes and other information\n",
        "#for dataset so it was not required for processing and training\n",
        "\n",
        "\n",
        "dataset_path = '/content/drive/MyDrive/Group_Project_Data'\n",
        "\n",
        "# List all subdirectories in the dataset\n",
        "galaxy_types = [dir_name for dir_name in os.listdir(os.path.join(dataset_path, 'Train')) if not dir_name.startswith('.')]\n",
        "print('Types of galaxies images found:', len(galaxy_types))\n",
        "print(galaxy_types)#what kinds of images  are in this dataset\n",
        "\n",
        "\n",
        "\n",
        "# List all subdirectories in the dataset\n",
        "galaxy_typesvalid = [dir_name for dir_name in os.listdir(os.path.join(dataset_path, 'Valid')) if not dir_name.startswith('.')]\n",
        "print('Types of galaxies images found in validation folder:', len(galaxy_types))\n",
        "print(galaxy_typesvalid)#what kinds of images  are in this dataset\n",
        "\n"
      ]
    },
    {
      "cell_type": "code",
      "execution_count": null,
      "metadata": {
        "colab": {
          "base_uri": "https://localhost:8080/"
        },
        "id": "KwWeH9r52ALk",
        "outputId": "c3c5d12d-c9d0-4254-aa6e-768b290b60b4"
      },
      "outputs": [
        {
          "output_type": "stream",
          "name": "stdout",
          "text": [
            "[]\n",
            "0\n",
            "[('Real', '/content/drive/MyDrive/Group_Project_Data/Valid/Real/img_610.png'), ('Real', '/content/drive/MyDrive/Group_Project_Data/Valid/Real/img_602.png'), ('Real', '/content/drive/MyDrive/Group_Project_Data/Valid/Real/img_603.png'), ('Real', '/content/drive/MyDrive/Group_Project_Data/Valid/Real/img_61.png'), ('Real', '/content/drive/MyDrive/Group_Project_Data/Valid/Real/img_600.png'), ('Real', '/content/drive/MyDrive/Group_Project_Data/Valid/Real/img_601.png'), ('Real', '/content/drive/MyDrive/Group_Project_Data/Valid/Real/img_597.png'), ('Real', '/content/drive/MyDrive/Group_Project_Data/Valid/Real/img_593.png'), ('Real', '/content/drive/MyDrive/Group_Project_Data/Valid/Real/img_596.png'), ('Real', '/content/drive/MyDrive/Group_Project_Data/Valid/Real/img_595.png'), ('Real', '/content/drive/MyDrive/Group_Project_Data/Valid/Real/img_594.png'), ('Real', '/content/drive/MyDrive/Group_Project_Data/Valid/Real/img_592.png'), ('Real', '/content/drive/MyDrive/Group_Project_Data/Valid/Real/img_6.png'), ('Real', '/content/drive/MyDrive/Group_Project_Data/Valid/Real/img_60.png'), ('Real', '/content/drive/MyDrive/Group_Project_Data/Valid/Real/img_599.png'), ('Real', '/content/drive/MyDrive/Group_Project_Data/Valid/Real/img_598.png'), ('Real', '/content/drive/MyDrive/Group_Project_Data/Valid/Real/img_59.png'), ('Real', '/content/drive/MyDrive/Group_Project_Data/Valid/Real/img_591.png'), ('Real', '/content/drive/MyDrive/Group_Project_Data/Valid/Real/img_589.png'), ('Real', '/content/drive/MyDrive/Group_Project_Data/Valid/Real/img_590.png'), ('Real', '/content/drive/MyDrive/Group_Project_Data/Valid/Real/.DS_Store'), ('Real', '/content/drive/MyDrive/Group_Project_Data/Valid/Real/img_58.png'), ('Real', '/content/drive/MyDrive/Group_Project_Data/Valid/Real/img_548.png'), ('Real', '/content/drive/MyDrive/Group_Project_Data/Valid/Real/img_347.png'), ('Real', '/content/drive/MyDrive/Group_Project_Data/Valid/Real/img_303.png'), ('Real', '/content/drive/MyDrive/Group_Project_Data/Valid/Real/img_242.png'), ('Real', '/content/drive/MyDrive/Group_Project_Data/Valid/Real/img_382.png'), ('Real', '/content/drive/MyDrive/Group_Project_Data/Valid/Real/img_23.png'), ('Real', '/content/drive/MyDrive/Group_Project_Data/Valid/Real/img_483.png'), ('Real', '/content/drive/MyDrive/Group_Project_Data/Valid/Real/img_39.png'), ('Real', '/content/drive/MyDrive/Group_Project_Data/Valid/Real/img_452.png'), ('Real', '/content/drive/MyDrive/Group_Project_Data/Valid/Real/img_446.png'), ('Real', '/content/drive/MyDrive/Group_Project_Data/Valid/Real/img_560.png'), ('Real', '/content/drive/MyDrive/Group_Project_Data/Valid/Real/img_298.png'), ('Real', '/content/drive/MyDrive/Group_Project_Data/Valid/Real/img_186.png'), ('Real', '/content/drive/MyDrive/Group_Project_Data/Valid/Real/img_369.png'), ('Real', '/content/drive/MyDrive/Group_Project_Data/Valid/Real/img_193.png'), ('Real', '/content/drive/MyDrive/Group_Project_Data/Valid/Real/img_110.png'), ('Real', '/content/drive/MyDrive/Group_Project_Data/Valid/Real/img_297.png'), ('Real', '/content/drive/MyDrive/Group_Project_Data/Valid/Real/img_341.png'), ('Real', '/content/drive/MyDrive/Group_Project_Data/Valid/Real/img_281.png'), ('Real', '/content/drive/MyDrive/Group_Project_Data/Valid/Real/img_433.png'), ('Real', '/content/drive/MyDrive/Group_Project_Data/Valid/Real/img_221.png'), ('Real', '/content/drive/MyDrive/Group_Project_Data/Valid/Real/img_391.png'), ('Real', '/content/drive/MyDrive/Group_Project_Data/Valid/Real/img_3.png'), ('Real', '/content/drive/MyDrive/Group_Project_Data/Valid/Real/img_216.png'), ('Real', '/content/drive/MyDrive/Group_Project_Data/Valid/Real/img_389.png'), ('Real', '/content/drive/MyDrive/Group_Project_Data/Valid/Real/img_479.png'), ('Real', '/content/drive/MyDrive/Group_Project_Data/Valid/Real/img_220.png'), ('Real', '/content/drive/MyDrive/Group_Project_Data/Valid/Real/img_638.png'), ('Real', '/content/drive/MyDrive/Group_Project_Data/Valid/Real/img_540.png'), ('Real', '/content/drive/MyDrive/Group_Project_Data/Valid/Real/img_240.png'), ('Real', '/content/drive/MyDrive/Group_Project_Data/Valid/Real/img_451.png'), ('Real', '/content/drive/MyDrive/Group_Project_Data/Valid/Real/img_43.png'), ('Real', '/content/drive/MyDrive/Group_Project_Data/Valid/Real/img_209.png'), ('Real', '/content/drive/MyDrive/Group_Project_Data/Valid/Real/img_531.png'), ('Real', '/content/drive/MyDrive/Group_Project_Data/Valid/Real/img_532.png'), ('Real', '/content/drive/MyDrive/Group_Project_Data/Valid/Real/img_57.png'), ('Real', '/content/drive/MyDrive/Group_Project_Data/Valid/Real/img_631.png'), ('Real', '/content/drive/MyDrive/Group_Project_Data/Valid/Real/img_508.png'), ('Real', '/content/drive/MyDrive/Group_Project_Data/Valid/Real/img_535.png'), ('Real', '/content/drive/MyDrive/Group_Project_Data/Valid/Real/img_552.png'), ('Real', '/content/drive/MyDrive/Group_Project_Data/Valid/Real/img_355.png'), ('Real', '/content/drive/MyDrive/Group_Project_Data/Valid/Real/img_407.png'), ('Real', '/content/drive/MyDrive/Group_Project_Data/Valid/Real/img_103.png'), ('Real', '/content/drive/MyDrive/Group_Project_Data/Valid/Real/img_170.png'), ('Real', '/content/drive/MyDrive/Group_Project_Data/Valid/Real/img_550.png'), ('Real', '/content/drive/MyDrive/Group_Project_Data/Valid/Real/img_10.png'), ('Real', '/content/drive/MyDrive/Group_Project_Data/Valid/Real/img_454.png'), ('Real', '/content/drive/MyDrive/Group_Project_Data/Valid/Real/img_488.png'), ('Real', '/content/drive/MyDrive/Group_Project_Data/Valid/Real/img_2.png'), ('Real', '/content/drive/MyDrive/Group_Project_Data/Valid/Real/img_440.png'), ('Real', '/content/drive/MyDrive/Group_Project_Data/Valid/Real/img_62.png'), ('Real', '/content/drive/MyDrive/Group_Project_Data/Valid/Real/img_365.png'), ('Real', '/content/drive/MyDrive/Group_Project_Data/Valid/Real/img_468.png'), ('Real', '/content/drive/MyDrive/Group_Project_Data/Valid/Real/img_22.png'), ('Real', '/content/drive/MyDrive/Group_Project_Data/Valid/Real/img_311.png'), ('Real', '/content/drive/MyDrive/Group_Project_Data/Valid/Real/img_583.png'), ('Real', '/content/drive/MyDrive/Group_Project_Data/Valid/Real/img_199.png'), ('Real', '/content/drive/MyDrive/Group_Project_Data/Valid/Real/img_549.png'), ('Real', '/content/drive/MyDrive/Group_Project_Data/Valid/Real/img_147.png'), ('Real', '/content/drive/MyDrive/Group_Project_Data/Valid/Real/img_396.png'), ('Real', '/content/drive/MyDrive/Group_Project_Data/Valid/Real/img_634.png'), ('Real', '/content/drive/MyDrive/Group_Project_Data/Valid/Real/img_472.png'), ('Real', '/content/drive/MyDrive/Group_Project_Data/Valid/Real/img_604.png'), ('Real', '/content/drive/MyDrive/Group_Project_Data/Valid/Real/img_167.png'), ('Real', '/content/drive/MyDrive/Group_Project_Data/Valid/Real/img_205.png'), ('Real', '/content/drive/MyDrive/Group_Project_Data/Valid/Real/img_383.png'), ('Real', '/content/drive/MyDrive/Group_Project_Data/Valid/Real/img_505.png'), ('Real', '/content/drive/MyDrive/Group_Project_Data/Valid/Real/img_624.png'), ('Real', '/content/drive/MyDrive/Group_Project_Data/Valid/Real/img_155.png'), ('Real', '/content/drive/MyDrive/Group_Project_Data/Valid/Real/img_616.png'), ('Real', '/content/drive/MyDrive/Group_Project_Data/Valid/Real/img_331.png'), ('Real', '/content/drive/MyDrive/Group_Project_Data/Valid/Real/img_556.png'), ('Real', '/content/drive/MyDrive/Group_Project_Data/Valid/Real/img_305.png'), ('Real', '/content/drive/MyDrive/Group_Project_Data/Valid/Real/img_387.png'), ('Real', '/content/drive/MyDrive/Group_Project_Data/Valid/Real/img_381.png'), ('Real', '/content/drive/MyDrive/Group_Project_Data/Valid/Real/img_109.png'), ('Real', '/content/drive/MyDrive/Group_Project_Data/Valid/Real/img_233.png'), ('Real', '/content/drive/MyDrive/Group_Project_Data/Valid/Real/img_335.png'), ('Real', '/content/drive/MyDrive/Group_Project_Data/Valid/Real/img_290.png'), ('Real', '/content/drive/MyDrive/Group_Project_Data/Valid/Real/img_639.png'), ('Real', '/content/drive/MyDrive/Group_Project_Data/Valid/Real/img_45.png'), ('Real', '/content/drive/MyDrive/Group_Project_Data/Valid/Real/img_112.png'), ('Real', '/content/drive/MyDrive/Group_Project_Data/Valid/Real/img_12.png'), ('Real', '/content/drive/MyDrive/Group_Project_Data/Valid/Real/img_266.png'), ('Real', '/content/drive/MyDrive/Group_Project_Data/Valid/Real/img_274.png'), ('Real', '/content/drive/MyDrive/Group_Project_Data/Valid/Real/img_561.png'), ('Real', '/content/drive/MyDrive/Group_Project_Data/Valid/Real/img_315.png'), ('Real', '/content/drive/MyDrive/Group_Project_Data/Valid/Real/img_494.png'), ('Real', '/content/drive/MyDrive/Group_Project_Data/Valid/Real/img_254.png'), ('Real', '/content/drive/MyDrive/Group_Project_Data/Valid/Real/img_25.png'), ('Real', '/content/drive/MyDrive/Group_Project_Data/Valid/Real/img_184.png'), ('Real', '/content/drive/MyDrive/Group_Project_Data/Valid/Real/img_325.png'), ('Real', '/content/drive/MyDrive/Group_Project_Data/Valid/Real/img_244.png'), ('Real', '/content/drive/MyDrive/Group_Project_Data/Valid/Real/img_627.png'), ('Real', '/content/drive/MyDrive/Group_Project_Data/Valid/Real/img_447.png'), ('Real', '/content/drive/MyDrive/Group_Project_Data/Valid/Real/img_618.png'), ('Real', '/content/drive/MyDrive/Group_Project_Data/Valid/Real/img_154.png'), ('Real', '/content/drive/MyDrive/Group_Project_Data/Valid/Real/img_415.png'), ('Real', '/content/drive/MyDrive/Group_Project_Data/Valid/Real/img_301.png'), ('Real', '/content/drive/MyDrive/Group_Project_Data/Valid/Real/img_539.png'), ('Real', '/content/drive/MyDrive/Group_Project_Data/Valid/Real/img_579.png'), ('Real', '/content/drive/MyDrive/Group_Project_Data/Valid/Real/img_133.png'), ('Real', '/content/drive/MyDrive/Group_Project_Data/Valid/Real/img_614.png'), ('Real', '/content/drive/MyDrive/Group_Project_Data/Valid/Real/img_210.png'), ('Real', '/content/drive/MyDrive/Group_Project_Data/Valid/Real/img_162.png'), ('Real', '/content/drive/MyDrive/Group_Project_Data/Valid/Real/img_515.png'), ('Real', '/content/drive/MyDrive/Group_Project_Data/Valid/Real/img_138.png'), ('Real', '/content/drive/MyDrive/Group_Project_Data/Valid/Real/img_388.png'), ('Real', '/content/drive/MyDrive/Group_Project_Data/Valid/Real/img_173.png'), ('Real', '/content/drive/MyDrive/Group_Project_Data/Valid/Real/img_237.png'), ('Real', '/content/drive/MyDrive/Group_Project_Data/Valid/Real/img_523.png'), ('Real', '/content/drive/MyDrive/Group_Project_Data/Valid/Real/img_608.png'), ('Real', '/content/drive/MyDrive/Group_Project_Data/Valid/Real/img_636.png'), ('Real', '/content/drive/MyDrive/Group_Project_Data/Valid/Real/img_323.png'), ('Real', '/content/drive/MyDrive/Group_Project_Data/Valid/Real/img_573.png'), ('Real', '/content/drive/MyDrive/Group_Project_Data/Valid/Real/img_611.png'), ('Real', '/content/drive/MyDrive/Group_Project_Data/Valid/Real/img_179.png'), ('Real', '/content/drive/MyDrive/Group_Project_Data/Valid/Real/img_567.png'), ('Real', '/content/drive/MyDrive/Group_Project_Data/Valid/Real/img_18.png'), ('Real', '/content/drive/MyDrive/Group_Project_Data/Valid/Real/img_419.png'), ('Real', '/content/drive/MyDrive/Group_Project_Data/Valid/Real/img_203.png'), ('Real', '/content/drive/MyDrive/Group_Project_Data/Valid/Real/img_241.png'), ('Real', '/content/drive/MyDrive/Group_Project_Data/Valid/Real/img_160.png'), ('Real', '/content/drive/MyDrive/Group_Project_Data/Valid/Real/img_346.png'), ('Real', '/content/drive/MyDrive/Group_Project_Data/Valid/Real/img_28.png'), ('Real', '/content/drive/MyDrive/Group_Project_Data/Valid/Real/img_212.png'), ('Real', '/content/drive/MyDrive/Group_Project_Data/Valid/Real/img_309.png'), ('Real', '/content/drive/MyDrive/Group_Project_Data/Valid/Real/img_409.png'), ('Real', '/content/drive/MyDrive/Group_Project_Data/Valid/Real/img_228.png'), ('Real', '/content/drive/MyDrive/Group_Project_Data/Valid/Real/img_176.png'), ('Real', '/content/drive/MyDrive/Group_Project_Data/Valid/Real/img_353.png'), ('Real', '/content/drive/MyDrive/Group_Project_Data/Valid/Real/img_251.png'), ('Real', '/content/drive/MyDrive/Group_Project_Data/Valid/Real/img_302.png'), ('Real', '/content/drive/MyDrive/Group_Project_Data/Valid/Real/img_392.png'), ('Real', '/content/drive/MyDrive/Group_Project_Data/Valid/Real/img_332.png'), ('Real', '/content/drive/MyDrive/Group_Project_Data/Valid/Real/img_206.png'), ('Real', '/content/drive/MyDrive/Group_Project_Data/Valid/Real/img_330.png'), ('Real', '/content/drive/MyDrive/Group_Project_Data/Valid/Real/img_565.png'), ('Real', '/content/drive/MyDrive/Group_Project_Data/Valid/Real/img_0.png'), ('Real', '/content/drive/MyDrive/Group_Project_Data/Valid/Real/img_412.png'), ('Real', '/content/drive/MyDrive/Group_Project_Data/Valid/Real/img_185.png'), ('Real', '/content/drive/MyDrive/Group_Project_Data/Valid/Real/img_116.png'), ('Real', '/content/drive/MyDrive/Group_Project_Data/Valid/Real/img_568.png'), ('Real', '/content/drive/MyDrive/Group_Project_Data/Valid/Real/img_187.png'), ('Real', '/content/drive/MyDrive/Group_Project_Data/Valid/Real/img_426.png'), ('Real', '/content/drive/MyDrive/Group_Project_Data/Valid/Real/img_511.png'), ('Real', '/content/drive/MyDrive/Group_Project_Data/Valid/Real/img_261.png'), ('Real', '/content/drive/MyDrive/Group_Project_Data/Valid/Real/img_613.png'), ('Real', '/content/drive/MyDrive/Group_Project_Data/Valid/Real/img_626.png'), ('Real', '/content/drive/MyDrive/Group_Project_Data/Valid/Real/img_342.png'), ('Real', '/content/drive/MyDrive/Group_Project_Data/Valid/Real/img_26.png'), ('Real', '/content/drive/MyDrive/Group_Project_Data/Valid/Real/img_520.png'), ('Real', '/content/drive/MyDrive/Group_Project_Data/Valid/Real/img_196.png'), ('Real', '/content/drive/MyDrive/Group_Project_Data/Valid/Real/img_264.png'), ('Real', '/content/drive/MyDrive/Group_Project_Data/Valid/Real/img_514.png'), ('Real', '/content/drive/MyDrive/Group_Project_Data/Valid/Real/img_384.png'), ('Real', '/content/drive/MyDrive/Group_Project_Data/Valid/Real/img_136.png'), ('Real', '/content/drive/MyDrive/Group_Project_Data/Valid/Real/img_545.png'), ('Real', '/content/drive/MyDrive/Group_Project_Data/Valid/Real/img_481.png'), ('Real', '/content/drive/MyDrive/Group_Project_Data/Valid/Real/img_386.png'), ('Real', '/content/drive/MyDrive/Group_Project_Data/Valid/Real/img_372.png'), ('Real', '/content/drive/MyDrive/Group_Project_Data/Valid/Real/img_260.png'), ('Real', '/content/drive/MyDrive/Group_Project_Data/Valid/Real/img_516.png'), ('Real', '/content/drive/MyDrive/Group_Project_Data/Valid/Real/img_140.png'), ('Real', '/content/drive/MyDrive/Group_Project_Data/Valid/Real/img_316.png'), ('Real', '/content/drive/MyDrive/Group_Project_Data/Valid/Real/img_424.png'), ('Real', '/content/drive/MyDrive/Group_Project_Data/Valid/Real/img_344.png'), ('Real', '/content/drive/MyDrive/Group_Project_Data/Valid/Real/img_263.png'), ('Real', '/content/drive/MyDrive/Group_Project_Data/Valid/Real/img_200.png'), ('Real', '/content/drive/MyDrive/Group_Project_Data/Valid/Real/img_278.png'), ('Real', '/content/drive/MyDrive/Group_Project_Data/Valid/Real/img_470.png'), ('Real', '/content/drive/MyDrive/Group_Project_Data/Valid/Real/img_445.png'), ('Real', '/content/drive/MyDrive/Group_Project_Data/Valid/Real/img_358.png'), ('Real', '/content/drive/MyDrive/Group_Project_Data/Valid/Real/img_214.png'), ('Real', '/content/drive/MyDrive/Group_Project_Data/Valid/Real/img_542.png'), ('Real', '/content/drive/MyDrive/Group_Project_Data/Valid/Real/img_410.png'), ('Real', '/content/drive/MyDrive/Group_Project_Data/Valid/Real/img_385.png'), ('Real', '/content/drive/MyDrive/Group_Project_Data/Valid/Real/img_306.png'), ('Real', '/content/drive/MyDrive/Group_Project_Data/Valid/Real/img_340.png'), ('Real', '/content/drive/MyDrive/Group_Project_Data/Valid/Real/img_455.png'), ('Real', '/content/drive/MyDrive/Group_Project_Data/Valid/Real/img_308.png'), ('Real', '/content/drive/MyDrive/Group_Project_Data/Valid/Real/img_34.png'), ('Real', '/content/drive/MyDrive/Group_Project_Data/Valid/Real/img_171.png'), ('Real', '/content/drive/MyDrive/Group_Project_Data/Valid/Real/img_118.png'), ('Real', '/content/drive/MyDrive/Group_Project_Data/Valid/Real/img_107.png'), ('Real', '/content/drive/MyDrive/Group_Project_Data/Valid/Real/img_562.png'), ('Real', '/content/drive/MyDrive/Group_Project_Data/Valid/Real/img_490.png'), ('Real', '/content/drive/MyDrive/Group_Project_Data/Valid/Real/img_484.png'), ('Real', '/content/drive/MyDrive/Group_Project_Data/Valid/Real/img_390.png'), ('Real', '/content/drive/MyDrive/Group_Project_Data/Valid/Real/img_443.png'), ('Real', '/content/drive/MyDrive/Group_Project_Data/Valid/Real/img_172.png'), ('Real', '/content/drive/MyDrive/Group_Project_Data/Valid/Real/img_430.png'), ('Real', '/content/drive/MyDrive/Group_Project_Data/Valid/Real/img_349.png'), ('Real', '/content/drive/MyDrive/Group_Project_Data/Valid/Real/img_354.png'), ('Real', '/content/drive/MyDrive/Group_Project_Data/Valid/Real/img_296.png'), ('Real', '/content/drive/MyDrive/Group_Project_Data/Valid/Real/img_350.png'), ('Real', '/content/drive/MyDrive/Group_Project_Data/Valid/Real/img_569.png'), ('Real', '/content/drive/MyDrive/Group_Project_Data/Valid/Real/img_286.png'), ('Real', '/content/drive/MyDrive/Group_Project_Data/Valid/Real/img_512.png'), ('Real', '/content/drive/MyDrive/Group_Project_Data/Valid/Real/img_513.png'), ('Real', '/content/drive/MyDrive/Group_Project_Data/Valid/Real/img_126.png'), ('Real', '/content/drive/MyDrive/Group_Project_Data/Valid/Real/img_432.png'), ('Real', '/content/drive/MyDrive/Group_Project_Data/Valid/Real/img_434.png'), ('Real', '/content/drive/MyDrive/Group_Project_Data/Valid/Real/img_469.png'), ('Real', '/content/drive/MyDrive/Group_Project_Data/Valid/Real/img_504.png'), ('Real', '/content/drive/MyDrive/Group_Project_Data/Valid/Real/img_158.png'), ('Real', '/content/drive/MyDrive/Group_Project_Data/Valid/Real/img_226.png'), ('Real', '/content/drive/MyDrive/Group_Project_Data/Valid/Real/img_517.png'), ('Real', '/content/drive/MyDrive/Group_Project_Data/Valid/Real/img_48.png'), ('Real', '/content/drive/MyDrive/Group_Project_Data/Valid/Real/img_606.png'), ('Real', '/content/drive/MyDrive/Group_Project_Data/Valid/Real/img_529.png'), ('Real', '/content/drive/MyDrive/Group_Project_Data/Valid/Real/img_551.png'), ('Real', '/content/drive/MyDrive/Group_Project_Data/Valid/Real/img_492.png'), ('Real', '/content/drive/MyDrive/Group_Project_Data/Valid/Real/img_518.png'), ('Real', '/content/drive/MyDrive/Group_Project_Data/Valid/Real/img_363.png'), ('Real', '/content/drive/MyDrive/Group_Project_Data/Valid/Real/img_557.png'), ('Real', '/content/drive/MyDrive/Group_Project_Data/Valid/Real/img_405.png'), ('Real', '/content/drive/MyDrive/Group_Project_Data/Valid/Real/img_361.png'), ('Real', '/content/drive/MyDrive/Group_Project_Data/Valid/Real/img_544.png'), ('Real', '/content/drive/MyDrive/Group_Project_Data/Valid/Real/img_279.png'), ('Real', '/content/drive/MyDrive/Group_Project_Data/Valid/Real/img_201.png'), ('Real', '/content/drive/MyDrive/Group_Project_Data/Valid/Real/img_223.png'), ('Real', '/content/drive/MyDrive/Group_Project_Data/Valid/Real/img_249.png'), ('Real', '/content/drive/MyDrive/Group_Project_Data/Valid/Real/img_612.png'), ('Real', '/content/drive/MyDrive/Group_Project_Data/Valid/Real/img_429.png'), ('Real', '/content/drive/MyDrive/Group_Project_Data/Valid/Real/img_582.png'), ('Real', '/content/drive/MyDrive/Group_Project_Data/Valid/Real/img_218.png'), ('Real', '/content/drive/MyDrive/Group_Project_Data/Valid/Real/img_125.png'), ('Real', '/content/drive/MyDrive/Group_Project_Data/Valid/Real/img_114.png'), ('Real', '/content/drive/MyDrive/Group_Project_Data/Valid/Real/img_414.png'), ('Real', '/content/drive/MyDrive/Group_Project_Data/Valid/Real/img_625.png'), ('Real', '/content/drive/MyDrive/Group_Project_Data/Valid/Real/img_313.png'), ('Real', '/content/drive/MyDrive/Group_Project_Data/Valid/Real/img_317.png'), ('Real', '/content/drive/MyDrive/Group_Project_Data/Valid/Real/img_493.png'), ('Real', '/content/drive/MyDrive/Group_Project_Data/Valid/Real/img_580.png'), ('Real', '/content/drive/MyDrive/Group_Project_Data/Valid/Real/img_182.png'), ('Real', '/content/drive/MyDrive/Group_Project_Data/Valid/Real/img_168.png'), ('Real', '/content/drive/MyDrive/Group_Project_Data/Valid/Real/img_299.png'), ('Real', '/content/drive/MyDrive/Group_Project_Data/Valid/Real/img_235.png'), ('Real', '/content/drive/MyDrive/Group_Project_Data/Valid/Real/img_360.png'), ('Real', '/content/drive/MyDrive/Group_Project_Data/Valid/Real/img_127.png'), ('Real', '/content/drive/MyDrive/Group_Project_Data/Valid/Real/img_320.png'), ('Real', '/content/drive/MyDrive/Group_Project_Data/Valid/Real/img_152.png'), ('Real', '/content/drive/MyDrive/Group_Project_Data/Valid/Real/img_630.png'), ('Real', '/content/drive/MyDrive/Group_Project_Data/Valid/Real/img_617.png'), ('Real', '/content/drive/MyDrive/Group_Project_Data/Valid/Real/img_586.png'), ('Real', '/content/drive/MyDrive/Group_Project_Data/Valid/Real/img_503.png'), ('Real', '/content/drive/MyDrive/Group_Project_Data/Valid/Real/img_287.png'), ('Real', '/content/drive/MyDrive/Group_Project_Data/Valid/Real/img_431.png'), ('Real', '/content/drive/MyDrive/Group_Project_Data/Valid/Real/img_339.png'), ('Real', '/content/drive/MyDrive/Group_Project_Data/Valid/Real/img_319.png'), ('Real', '/content/drive/MyDrive/Group_Project_Data/Valid/Real/img_148.png'), ('Real', '/content/drive/MyDrive/Group_Project_Data/Valid/Real/img_555.png'), ('Real', '/content/drive/MyDrive/Group_Project_Data/Valid/Real/img_236.png'), ('Real', '/content/drive/MyDrive/Group_Project_Data/Valid/Real/img_42.png'), ('Real', '/content/drive/MyDrive/Group_Project_Data/Valid/Real/img_288.png'), ('Real', '/content/drive/MyDrive/Group_Project_Data/Valid/Real/img_284.png'), ('Real', '/content/drive/MyDrive/Group_Project_Data/Valid/Real/img_421.png'), ('Real', '/content/drive/MyDrive/Group_Project_Data/Valid/Real/img_276.png'), ('Real', '/content/drive/MyDrive/Group_Project_Data/Valid/Real/img_208.png'), ('Real', '/content/drive/MyDrive/Group_Project_Data/Valid/Real/img_31.png'), ('Real', '/content/drive/MyDrive/Group_Project_Data/Valid/Real/img_623.png'), ('Real', '/content/drive/MyDrive/Group_Project_Data/Valid/Real/img_243.png'), ('Real', '/content/drive/MyDrive/Group_Project_Data/Valid/Real/img_566.png'), ('Real', '/content/drive/MyDrive/Group_Project_Data/Valid/Real/img_257.png'), ('Real', '/content/drive/MyDrive/Group_Project_Data/Valid/Real/img_183.png'), ('Real', '/content/drive/MyDrive/Group_Project_Data/Valid/Real/img_393.png'), ('Real', '/content/drive/MyDrive/Group_Project_Data/Valid/Real/img_507.png'), ('Real', '/content/drive/MyDrive/Group_Project_Data/Valid/Real/img_197.png'), ('Real', '/content/drive/MyDrive/Group_Project_Data/Valid/Real/img_541.png'), ('Real', '/content/drive/MyDrive/Group_Project_Data/Valid/Real/img_178.png'), ('Real', '/content/drive/MyDrive/Group_Project_Data/Valid/Real/img_368.png'), ('Real', '/content/drive/MyDrive/Group_Project_Data/Valid/Real/img_465.png'), ('Real', '/content/drive/MyDrive/Group_Project_Data/Valid/Real/img_294.png'), ('Real', '/content/drive/MyDrive/Group_Project_Data/Valid/Real/img_575.png'), ('Real', '/content/drive/MyDrive/Group_Project_Data/Valid/Real/img_63.png'), ('Real', '/content/drive/MyDrive/Group_Project_Data/Valid/Real/img_36.png'), ('Real', '/content/drive/MyDrive/Group_Project_Data/Valid/Real/img_283.png'), ('Real', '/content/drive/MyDrive/Group_Project_Data/Valid/Real/img_404.png'), ('Real', '/content/drive/MyDrive/Group_Project_Data/Valid/Real/img_537.png'), ('Real', '/content/drive/MyDrive/Group_Project_Data/Valid/Real/img_120.png'), ('Real', '/content/drive/MyDrive/Group_Project_Data/Valid/Real/img_123.png'), ('Real', '/content/drive/MyDrive/Group_Project_Data/Valid/Real/img_194.png'), ('Real', '/content/drive/MyDrive/Group_Project_Data/Valid/Real/img_164.png'), ('Real', '/content/drive/MyDrive/Group_Project_Data/Valid/Real/img_144.png'), ('Real', '/content/drive/MyDrive/Group_Project_Data/Valid/Real/img_124.png'), ('Real', '/content/drive/MyDrive/Group_Project_Data/Valid/Real/img_117.png'), ('Real', '/content/drive/MyDrive/Group_Project_Data/Valid/Real/img_525.png'), ('Real', '/content/drive/MyDrive/Group_Project_Data/Valid/Real/img_14.png'), ('Real', '/content/drive/MyDrive/Group_Project_Data/Valid/Real/img_115.png'), ('Real', '/content/drive/MyDrive/Group_Project_Data/Valid/Real/img_219.png'), ('Real', '/content/drive/MyDrive/Group_Project_Data/Valid/Real/img_198.png'), ('Real', '/content/drive/MyDrive/Group_Project_Data/Valid/Real/img_509.png'), ('Real', '/content/drive/MyDrive/Group_Project_Data/Valid/Real/img_190.png'), ('Real', '/content/drive/MyDrive/Group_Project_Data/Valid/Real/img_259.png'), ('Real', '/content/drive/MyDrive/Group_Project_Data/Valid/Real/img_271.png'), ('Real', '/content/drive/MyDrive/Group_Project_Data/Valid/Real/img_337.png'), ('Real', '/content/drive/MyDrive/Group_Project_Data/Valid/Real/img_524.png'), ('Real', '/content/drive/MyDrive/Group_Project_Data/Valid/Real/img_422.png'), ('Real', '/content/drive/MyDrive/Group_Project_Data/Valid/Real/img_230.png'), ('Real', '/content/drive/MyDrive/Group_Project_Data/Valid/Real/img_38.png'), ('Real', '/content/drive/MyDrive/Group_Project_Data/Valid/Real/img_175.png'), ('Real', '/content/drive/MyDrive/Group_Project_Data/Valid/Real/img_217.png'), ('Real', '/content/drive/MyDrive/Group_Project_Data/Valid/Real/img_328.png'), ('Real', '/content/drive/MyDrive/Group_Project_Data/Valid/Real/img_528.png'), ('Real', '/content/drive/MyDrive/Group_Project_Data/Valid/Real/img_166.png'), ('Real', '/content/drive/MyDrive/Group_Project_Data/Valid/Real/img_27.png'), ('Real', '/content/drive/MyDrive/Group_Project_Data/Valid/Real/img_30.png'), ('Real', '/content/drive/MyDrive/Group_Project_Data/Valid/Real/img_314.png'), ('Real', '/content/drive/MyDrive/Group_Project_Data/Valid/Real/img_441.png'), ('Real', '/content/drive/MyDrive/Group_Project_Data/Valid/Real/img_460.png'), ('Real', '/content/drive/MyDrive/Group_Project_Data/Valid/Real/img_398.png'), ('Real', '/content/drive/MyDrive/Group_Project_Data/Valid/Real/img_180.png'), ('Real', '/content/drive/MyDrive/Group_Project_Data/Valid/Real/img_246.png'), ('Real', '/content/drive/MyDrive/Group_Project_Data/Valid/Real/img_163.png'), ('Real', '/content/drive/MyDrive/Group_Project_Data/Valid/Real/img_373.png'), ('Real', '/content/drive/MyDrive/Group_Project_Data/Valid/Real/img_547.png'), ('Real', '/content/drive/MyDrive/Group_Project_Data/Valid/Real/img_33.png'), ('Real', '/content/drive/MyDrive/Group_Project_Data/Valid/Real/img_269.png'), ('Real', '/content/drive/MyDrive/Group_Project_Data/Valid/Real/img_202.png'), ('Real', '/content/drive/MyDrive/Group_Project_Data/Valid/Real/img_498.png'), ('Real', '/content/drive/MyDrive/Group_Project_Data/Valid/Real/img_399.png'), ('Real', '/content/drive/MyDrive/Group_Project_Data/Valid/Real/img_380.png'), ('Real', '/content/drive/MyDrive/Group_Project_Data/Valid/Real/img_646.png'), ('Real', '/content/drive/MyDrive/Group_Project_Data/Valid/Real/img_277.png'), ('Real', '/content/drive/MyDrive/Group_Project_Data/Valid/Real/img_628.png'), ('Real', '/content/drive/MyDrive/Group_Project_Data/Valid/Real/img_285.png'), ('Real', '/content/drive/MyDrive/Group_Project_Data/Valid/Real/img_449.png'), ('Real', '/content/drive/MyDrive/Group_Project_Data/Valid/Real/img_442.png'), ('Real', '/content/drive/MyDrive/Group_Project_Data/Valid/Real/img_351.png'), ('Real', '/content/drive/MyDrive/Group_Project_Data/Valid/Real/img_149.png'), ('Real', '/content/drive/MyDrive/Group_Project_Data/Valid/Real/img_534.png'), ('Real', '/content/drive/MyDrive/Group_Project_Data/Valid/Real/img_20.png'), ('Real', '/content/drive/MyDrive/Group_Project_Data/Valid/Real/img_402.png'), ('Real', '/content/drive/MyDrive/Group_Project_Data/Valid/Real/img_506.png'), ('Real', '/content/drive/MyDrive/Group_Project_Data/Valid/Real/img_258.png'), ('Real', '/content/drive/MyDrive/Group_Project_Data/Valid/Real/img_119.png'), ('Real', '/content/drive/MyDrive/Group_Project_Data/Valid/Real/img_558.png'), ('Real', '/content/drive/MyDrive/Group_Project_Data/Valid/Real/img_497.png'), ('Real', '/content/drive/MyDrive/Group_Project_Data/Valid/Real/img_232.png'), ('Real', '/content/drive/MyDrive/Group_Project_Data/Valid/Real/img_333.png'), ('Real', '/content/drive/MyDrive/Group_Project_Data/Valid/Real/img_435.png'), ('Real', '/content/drive/MyDrive/Group_Project_Data/Valid/Real/img_584.png'), ('Real', '/content/drive/MyDrive/Group_Project_Data/Valid/Real/img_47.png'), ('Real', '/content/drive/MyDrive/Group_Project_Data/Valid/Real/img_417.png'), ('Real', '/content/drive/MyDrive/Group_Project_Data/Valid/Real/img_563.png'), ('Real', '/content/drive/MyDrive/Group_Project_Data/Valid/Real/img_526.png'), ('Real', '/content/drive/MyDrive/Group_Project_Data/Valid/Real/img_141.png'), ('Real', '/content/drive/MyDrive/Group_Project_Data/Valid/Real/img_213.png'), ('Real', '/content/drive/MyDrive/Group_Project_Data/Valid/Real/img_106.png'), ('Real', '/content/drive/MyDrive/Group_Project_Data/Valid/Real/img_139.png'), ('Real', '/content/drive/MyDrive/Group_Project_Data/Valid/Real/img_462.png'), ('Real', '/content/drive/MyDrive/Group_Project_Data/Valid/Real/img_13.png'), ('Real', '/content/drive/MyDrive/Group_Project_Data/Valid/Real/img_436.png'), ('Real', '/content/drive/MyDrive/Group_Project_Data/Valid/Real/img_572.png'), ('Real', '/content/drive/MyDrive/Group_Project_Data/Valid/Real/img_248.png'), ('Real', '/content/drive/MyDrive/Group_Project_Data/Valid/Real/img_585.png'), ('Real', '/content/drive/MyDrive/Group_Project_Data/Valid/Real/img_17.png'), ('Real', '/content/drive/MyDrive/Group_Project_Data/Valid/Real/img_538.png'), ('Real', '/content/drive/MyDrive/Group_Project_Data/Valid/Real/img_619.png'), ('Real', '/content/drive/MyDrive/Group_Project_Data/Valid/Real/img_289.png'), ('Real', '/content/drive/MyDrive/Group_Project_Data/Valid/Real/img_310.png'), ('Real', '/content/drive/MyDrive/Group_Project_Data/Valid/Real/img_428.png'), ('Real', '/content/drive/MyDrive/Group_Project_Data/Valid/Real/img_336.png'), ('Real', '/content/drive/MyDrive/Group_Project_Data/Valid/Real/img_496.png'), ('Real', '/content/drive/MyDrive/Group_Project_Data/Valid/Real/img_395.png'), ('Real', '/content/drive/MyDrive/Group_Project_Data/Valid/Real/img_338.png'), ('Real', '/content/drive/MyDrive/Group_Project_Data/Valid/Real/img_427.png'), ('Real', '/content/drive/MyDrive/Group_Project_Data/Valid/Real/img_607.png'), ('Real', '/content/drive/MyDrive/Group_Project_Data/Valid/Real/img_403.png'), ('Real', '/content/drive/MyDrive/Group_Project_Data/Valid/Real/img_425.png'), ('Real', '/content/drive/MyDrive/Group_Project_Data/Valid/Real/img_474.png'), ('Real', '/content/drive/MyDrive/Group_Project_Data/Valid/Real/img_576.png'), ('Real', '/content/drive/MyDrive/Group_Project_Data/Valid/Real/img_252.png'), ('Real', '/content/drive/MyDrive/Group_Project_Data/Valid/Real/img_495.png'), ('Real', '/content/drive/MyDrive/Group_Project_Data/Valid/Real/img_371.png'), ('Real', '/content/drive/MyDrive/Group_Project_Data/Valid/Real/img_377.png'), ('Real', '/content/drive/MyDrive/Group_Project_Data/Valid/Real/img_40.png'), ('Real', '/content/drive/MyDrive/Group_Project_Data/Valid/Real/img_132.png'), ('Real', '/content/drive/MyDrive/Group_Project_Data/Valid/Real/img_255.png'), ('Real', '/content/drive/MyDrive/Group_Project_Data/Valid/Real/img_345.png'), ('Real', '/content/drive/MyDrive/Group_Project_Data/Valid/Real/img_334.png'), ('Real', '/content/drive/MyDrive/Group_Project_Data/Valid/Real/img_56.png'), ('Real', '/content/drive/MyDrive/Group_Project_Data/Valid/Real/img_348.png'), ('Real', '/content/drive/MyDrive/Group_Project_Data/Valid/Real/img_275.png'), ('Real', '/content/drive/MyDrive/Group_Project_Data/Valid/Real/img_229.png'), ('Real', '/content/drive/MyDrive/Group_Project_Data/Valid/Real/img_501.png'), ('Real', '/content/drive/MyDrive/Group_Project_Data/Valid/Real/img_364.png'), ('Real', '/content/drive/MyDrive/Group_Project_Data/Valid/Real/img_570.png'), ('Real', '/content/drive/MyDrive/Group_Project_Data/Valid/Real/img_292.png'), ('Real', '/content/drive/MyDrive/Group_Project_Data/Valid/Real/img_477.png'), ('Real', '/content/drive/MyDrive/Group_Project_Data/Valid/Real/img_546.png'), ('Real', '/content/drive/MyDrive/Group_Project_Data/Valid/Real/img_587.png'), ('Real', '/content/drive/MyDrive/Group_Project_Data/Valid/Real/img_456.png'), ('Real', '/content/drive/MyDrive/Group_Project_Data/Valid/Real/img_24.png'), ('Real', '/content/drive/MyDrive/Group_Project_Data/Valid/Real/img_453.png'), ('Real', '/content/drive/MyDrive/Group_Project_Data/Valid/Real/img_463.png'), ('Real', '/content/drive/MyDrive/Group_Project_Data/Valid/Real/img_188.png'), ('Real', '/content/drive/MyDrive/Group_Project_Data/Valid/Real/img_559.png'), ('Real', '/content/drive/MyDrive/Group_Project_Data/Valid/Real/img_238.png'), ('Real', '/content/drive/MyDrive/Group_Project_Data/Valid/Real/img_554.png'), ('Real', '/content/drive/MyDrive/Group_Project_Data/Valid/Real/img_588.png'), ('Real', '/content/drive/MyDrive/Group_Project_Data/Valid/Real/img_19.png'), ('Real', '/content/drive/MyDrive/Group_Project_Data/Valid/Real/img_247.png'), ('Real', '/content/drive/MyDrive/Group_Project_Data/Valid/Real/img_282.png'), ('Real', '/content/drive/MyDrive/Group_Project_Data/Valid/Real/img_574.png'), ('Real', '/content/drive/MyDrive/Group_Project_Data/Valid/Real/img_105.png'), ('Real', '/content/drive/MyDrive/Group_Project_Data/Valid/Real/img_482.png'), ('Real', '/content/drive/MyDrive/Group_Project_Data/Valid/Real/img_15.png'), ('Real', '/content/drive/MyDrive/Group_Project_Data/Valid/Real/img_459.png'), ('Real', '/content/drive/MyDrive/Group_Project_Data/Valid/Real/img_272.png'), ('Real', '/content/drive/MyDrive/Group_Project_Data/Valid/Real/img_485.png'), ('Real', '/content/drive/MyDrive/Group_Project_Data/Valid/Real/img_343.png'), ('Real', '/content/drive/MyDrive/Group_Project_Data/Valid/Real/img_577.png'), ('Real', '/content/drive/MyDrive/Group_Project_Data/Valid/Real/img_397.png'), ('Real', '/content/drive/MyDrive/Group_Project_Data/Valid/Real/img_571.png'), ('Real', '/content/drive/MyDrive/Group_Project_Data/Valid/Real/img_609.png'), ('Real', '/content/drive/MyDrive/Group_Project_Data/Valid/Real/img_359.png'), ('Real', '/content/drive/MyDrive/Group_Project_Data/Valid/Real/img_268.png'), ('Real', '/content/drive/MyDrive/Group_Project_Data/Valid/Real/img_300.png'), ('Real', '/content/drive/MyDrive/Group_Project_Data/Valid/Real/img_530.png'), ('Real', '/content/drive/MyDrive/Group_Project_Data/Valid/Real/img_450.png'), ('Real', '/content/drive/MyDrive/Group_Project_Data/Valid/Real/img_536.png'), ('Real', '/content/drive/MyDrive/Group_Project_Data/Valid/Real/img_32.png'), ('Real', '/content/drive/MyDrive/Group_Project_Data/Valid/Real/img_324.png'), ('Real', '/content/drive/MyDrive/Group_Project_Data/Valid/Real/img_250.png'), ('Real', '/content/drive/MyDrive/Group_Project_Data/Valid/Real/img_16.png'), ('Real', '/content/drive/MyDrive/Group_Project_Data/Valid/Real/img_189.png'), ('Real', '/content/drive/MyDrive/Group_Project_Data/Valid/Real/img_231.png'), ('Real', '/content/drive/MyDrive/Group_Project_Data/Valid/Real/img_327.png'), ('Real', '/content/drive/MyDrive/Group_Project_Data/Valid/Real/img_111.png'), ('Real', '/content/drive/MyDrive/Group_Project_Data/Valid/Real/img_122.png'), ('Real', '/content/drive/MyDrive/Group_Project_Data/Valid/Real/img_100.png'), ('Real', '/content/drive/MyDrive/Group_Project_Data/Valid/Real/img_510.png'), ('Real', '/content/drive/MyDrive/Group_Project_Data/Valid/Real/img_307.png'), ('Real', '/content/drive/MyDrive/Group_Project_Data/Valid/Real/img_533.png'), ('Real', '/content/drive/MyDrive/Group_Project_Data/Valid/Real/img_5.png'), ('Real', '/content/drive/MyDrive/Group_Project_Data/Valid/Real/img_4.png'), ('Real', '/content/drive/MyDrive/Group_Project_Data/Valid/Real/img_225.png'), ('Real', '/content/drive/MyDrive/Group_Project_Data/Valid/Real/img_130.png'), ('Real', '/content/drive/MyDrive/Group_Project_Data/Valid/Real/img_521.png'), ('Real', '/content/drive/MyDrive/Group_Project_Data/Valid/Real/img_204.png'), ('Real', '/content/drive/MyDrive/Group_Project_Data/Valid/Real/img_29.png'), ('Real', '/content/drive/MyDrive/Group_Project_Data/Valid/Real/img_44.png'), ('Real', '/content/drive/MyDrive/Group_Project_Data/Valid/Real/img_635.png'), ('Real', '/content/drive/MyDrive/Group_Project_Data/Valid/Real/img_379.png'), ('Real', '/content/drive/MyDrive/Group_Project_Data/Valid/Real/img_475.png'), ('Real', '/content/drive/MyDrive/Group_Project_Data/Valid/Real/img_527.png'), ('Real', '/content/drive/MyDrive/Group_Project_Data/Valid/Real/img_416.png'), ('Real', '/content/drive/MyDrive/Group_Project_Data/Valid/Real/img_629.png'), ('Real', '/content/drive/MyDrive/Group_Project_Data/Valid/Real/img_437.png'), ('Real', '/content/drive/MyDrive/Group_Project_Data/Valid/Real/img_227.png'), ('Real', '/content/drive/MyDrive/Group_Project_Data/Valid/Real/img_157.png'), ('Real', '/content/drive/MyDrive/Group_Project_Data/Valid/Real/img_134.png'), ('Real', '/content/drive/MyDrive/Group_Project_Data/Valid/Real/img_207.png'), ('Real', '/content/drive/MyDrive/Group_Project_Data/Valid/Real/img_480.png'), ('Real', '/content/drive/MyDrive/Group_Project_Data/Valid/Real/img_362.png'), ('Real', '/content/drive/MyDrive/Group_Project_Data/Valid/Real/img_466.png'), ('Real', '/content/drive/MyDrive/Group_Project_Data/Valid/Real/img_605.png'), ('Real', '/content/drive/MyDrive/Group_Project_Data/Valid/Real/img_376.png'), ('Real', '/content/drive/MyDrive/Group_Project_Data/Valid/Real/img_291.png'), ('Real', '/content/drive/MyDrive/Group_Project_Data/Valid/Real/img_159.png'), ('Real', '/content/drive/MyDrive/Group_Project_Data/Valid/Real/img_615.png'), ('Real', '/content/drive/MyDrive/Group_Project_Data/Valid/Real/img_471.png'), ('Real', '/content/drive/MyDrive/Group_Project_Data/Valid/Real/img_295.png'), ('Real', '/content/drive/MyDrive/Group_Project_Data/Valid/Real/img_420.png'), ('Real', '/content/drive/MyDrive/Group_Project_Data/Valid/Real/img_464.png'), ('Real', '/content/drive/MyDrive/Group_Project_Data/Valid/Real/img_564.png'), ('Real', '/content/drive/MyDrive/Group_Project_Data/Valid/Real/img_239.png'), ('Real', '/content/drive/MyDrive/Group_Project_Data/Valid/Real/img_129.png'), ('Real', '/content/drive/MyDrive/Group_Project_Data/Valid/Real/img_448.png'), ('Real', '/content/drive/MyDrive/Group_Project_Data/Valid/Real/img_53.png'), ('Real', '/content/drive/MyDrive/Group_Project_Data/Valid/Real/img_519.png'), ('Real', '/content/drive/MyDrive/Group_Project_Data/Valid/Real/img_581.png'), ('Real', '/content/drive/MyDrive/Group_Project_Data/Valid/Real/img_400.png'), ('Real', '/content/drive/MyDrive/Group_Project_Data/Valid/Real/img_273.png'), ('Real', '/content/drive/MyDrive/Group_Project_Data/Valid/Real/img_137.png'), ('Real', '/content/drive/MyDrive/Group_Project_Data/Valid/Real/img_467.png'), ('Real', '/content/drive/MyDrive/Group_Project_Data/Valid/Real/img_143.png'), ('Real', '/content/drive/MyDrive/Group_Project_Data/Valid/Real/img_375.png'), ('Real', '/content/drive/MyDrive/Group_Project_Data/Valid/Real/img_438.png'), ('Real', '/content/drive/MyDrive/Group_Project_Data/Valid/Real/img_578.png'), ('Real', '/content/drive/MyDrive/Group_Project_Data/Valid/Real/img_192.png'), ('Real', '/content/drive/MyDrive/Group_Project_Data/Valid/Real/img_153.png'), ('Real', '/content/drive/MyDrive/Group_Project_Data/Valid/Real/img_108.png'), ('Real', '/content/drive/MyDrive/Group_Project_Data/Valid/Real/img_270.png'), ('Real', '/content/drive/MyDrive/Group_Project_Data/Valid/Real/img_46.png'), ('Real', '/content/drive/MyDrive/Group_Project_Data/Valid/Real/img_621.png'), ('Real', '/content/drive/MyDrive/Group_Project_Data/Valid/Real/img_491.png'), ('Real', '/content/drive/MyDrive/Group_Project_Data/Valid/Real/img_165.png'), ('Real', '/content/drive/MyDrive/Group_Project_Data/Valid/Real/img_222.png'), ('Real', '/content/drive/MyDrive/Group_Project_Data/Valid/Real/img_486.png'), ('Real', '/content/drive/MyDrive/Group_Project_Data/Valid/Real/img_50.png'), ('Real', '/content/drive/MyDrive/Group_Project_Data/Valid/Real/img_458.png'), ('Real', '/content/drive/MyDrive/Group_Project_Data/Valid/Real/img_439.png'), ('Real', '/content/drive/MyDrive/Group_Project_Data/Valid/Real/img_54.png'), ('Real', '/content/drive/MyDrive/Group_Project_Data/Valid/Real/img_211.png'), ('Real', '/content/drive/MyDrive/Group_Project_Data/Valid/Real/img_500.png'), ('Real', '/content/drive/MyDrive/Group_Project_Data/Valid/Real/img_21.png'), ('Real', '/content/drive/MyDrive/Group_Project_Data/Valid/Real/img_121.png'), ('Real', '/content/drive/MyDrive/Group_Project_Data/Valid/Real/img_41.png'), ('Real', '/content/drive/MyDrive/Group_Project_Data/Valid/Real/img_374.png'), ('Real', '/content/drive/MyDrive/Group_Project_Data/Valid/Real/img_370.png'), ('Real', '/content/drive/MyDrive/Group_Project_Data/Valid/Real/img_262.png'), ('Real', '/content/drive/MyDrive/Group_Project_Data/Valid/Real/img_408.png'), ('Real', '/content/drive/MyDrive/Group_Project_Data/Valid/Real/img_151.png'), ('Real', '/content/drive/MyDrive/Group_Project_Data/Valid/Real/img_161.png'), ('Real', '/content/drive/MyDrive/Group_Project_Data/Valid/Real/img_145.png'), ('Real', '/content/drive/MyDrive/Group_Project_Data/Valid/Real/img_502.png'), ('Real', '/content/drive/MyDrive/Group_Project_Data/Valid/Real/img_131.png'), ('Real', '/content/drive/MyDrive/Group_Project_Data/Valid/Real/img_169.png'), ('Real', '/content/drive/MyDrive/Group_Project_Data/Valid/Real/img_366.png'), ('Real', '/content/drive/MyDrive/Group_Project_Data/Valid/Real/img_256.png'), ('Real', '/content/drive/MyDrive/Group_Project_Data/Valid/Real/img_191.png'), ('Real', '/content/drive/MyDrive/Group_Project_Data/Valid/Real/img_633.png'), ('Real', '/content/drive/MyDrive/Group_Project_Data/Valid/Real/img_104.png'), ('Real', '/content/drive/MyDrive/Group_Project_Data/Valid/Real/img_37.png'), ('Real', '/content/drive/MyDrive/Group_Project_Data/Valid/Real/img_267.png'), ('Real', '/content/drive/MyDrive/Group_Project_Data/Valid/Real/img_312.png'), ('Real', '/content/drive/MyDrive/Group_Project_Data/Valid/Real/img_215.png'), ('Real', '/content/drive/MyDrive/Group_Project_Data/Valid/Real/img_49.png'), ('Real', '/content/drive/MyDrive/Group_Project_Data/Valid/Real/img_622.png'), ('Real', '/content/drive/MyDrive/Group_Project_Data/Valid/Real/img_265.png'), ('Real', '/content/drive/MyDrive/Group_Project_Data/Valid/Real/img_476.png'), ('Real', '/content/drive/MyDrive/Group_Project_Data/Valid/Real/img_356.png'), ('Real', '/content/drive/MyDrive/Group_Project_Data/Valid/Real/img_35.png'), ('Real', '/content/drive/MyDrive/Group_Project_Data/Valid/Real/img_128.png'), ('Real', '/content/drive/MyDrive/Group_Project_Data/Valid/Real/img_234.png'), ('Real', '/content/drive/MyDrive/Group_Project_Data/Valid/Real/img_102.png'), ('Real', '/content/drive/MyDrive/Group_Project_Data/Valid/Real/img_553.png'), ('Real', '/content/drive/MyDrive/Group_Project_Data/Valid/Real/img_423.png'), ('Real', '/content/drive/MyDrive/Group_Project_Data/Valid/Real/img_457.png'), ('Real', '/content/drive/MyDrive/Group_Project_Data/Valid/Real/img_150.png'), ('Real', '/content/drive/MyDrive/Group_Project_Data/Valid/Real/img_11.png'), ('Real', '/content/drive/MyDrive/Group_Project_Data/Valid/Real/img_637.png'), ('Real', '/content/drive/MyDrive/Group_Project_Data/Valid/Real/img_543.png'), ('Real', '/content/drive/MyDrive/Group_Project_Data/Valid/Real/img_367.png'), ('Real', '/content/drive/MyDrive/Group_Project_Data/Valid/Real/img_55.png'), ('Real', '/content/drive/MyDrive/Group_Project_Data/Valid/Real/img_135.png'), ('Real', '/content/drive/MyDrive/Group_Project_Data/Valid/Real/img_52.png'), ('Real', '/content/drive/MyDrive/Group_Project_Data/Valid/Real/img_113.png'), ('Real', '/content/drive/MyDrive/Group_Project_Data/Valid/Real/img_487.png'), ('Real', '/content/drive/MyDrive/Group_Project_Data/Valid/Real/img_378.png'), ('Real', '/content/drive/MyDrive/Group_Project_Data/Valid/Real/img_156.png'), ('Real', '/content/drive/MyDrive/Group_Project_Data/Valid/Real/img_522.png'), ('Real', '/content/drive/MyDrive/Group_Project_Data/Valid/Real/img_499.png'), ('Real', '/content/drive/MyDrive/Group_Project_Data/Valid/Real/img_322.png'), ('Real', '/content/drive/MyDrive/Group_Project_Data/Valid/Real/img_293.png'), ('Real', '/content/drive/MyDrive/Group_Project_Data/Valid/Real/img_146.png'), ('Real', '/content/drive/MyDrive/Group_Project_Data/Valid/Real/img_326.png'), ('Real', '/content/drive/MyDrive/Group_Project_Data/Valid/Real/img_142.png'), ('Real', '/content/drive/MyDrive/Group_Project_Data/Valid/Real/img_253.png'), ('Real', '/content/drive/MyDrive/Group_Project_Data/Valid/Real/img_321.png'), ('Real', '/content/drive/MyDrive/Group_Project_Data/Valid/Real/img_51.png'), ('Real', '/content/drive/MyDrive/Group_Project_Data/Valid/Real/img_413.png'), ('Real', '/content/drive/MyDrive/Group_Project_Data/Valid/Real/img_177.png'), ('Real', '/content/drive/MyDrive/Group_Project_Data/Valid/Real/img_1.png'), ('Real', '/content/drive/MyDrive/Group_Project_Data/Valid/Real/img_181.png'), ('Real', '/content/drive/MyDrive/Group_Project_Data/Valid/Real/img_304.png'), ('Real', '/content/drive/MyDrive/Group_Project_Data/Valid/Real/img_329.png'), ('Real', '/content/drive/MyDrive/Group_Project_Data/Valid/Real/img_406.png'), ('Real', '/content/drive/MyDrive/Group_Project_Data/Valid/Real/img_620.png'), ('Real', '/content/drive/MyDrive/Group_Project_Data/Valid/Real/img_224.png'), ('Real', '/content/drive/MyDrive/Group_Project_Data/Valid/Real/img_101.png'), ('Real', '/content/drive/MyDrive/Group_Project_Data/Valid/Real/img_357.png'), ('Real', '/content/drive/MyDrive/Group_Project_Data/Valid/Real/img_461.png'), ('Real', '/content/drive/MyDrive/Group_Project_Data/Valid/Real/img_444.png'), ('Real', '/content/drive/MyDrive/Group_Project_Data/Valid/Real/img_411.png'), ('Real', '/content/drive/MyDrive/Group_Project_Data/Valid/Real/img_318.png'), ('Real', '/content/drive/MyDrive/Group_Project_Data/Valid/Real/img_632.png'), ('Real', '/content/drive/MyDrive/Group_Project_Data/Valid/Real/img_418.png'), ('Real', '/content/drive/MyDrive/Group_Project_Data/Valid/Real/img_394.png'), ('Real', '/content/drive/MyDrive/Group_Project_Data/Valid/Real/img_401.png'), ('Real', '/content/drive/MyDrive/Group_Project_Data/Valid/Real/img_280.png'), ('Real', '/content/drive/MyDrive/Group_Project_Data/Valid/Real/img_489.png'), ('Real', '/content/drive/MyDrive/Group_Project_Data/Valid/Real/img_645.png'), ('Real', '/content/drive/MyDrive/Group_Project_Data/Valid/Real/img_352.png'), ('Real', '/content/drive/MyDrive/Group_Project_Data/Valid/Real/img_473.png'), ('Real', '/content/drive/MyDrive/Group_Project_Data/Valid/Real/img_195.png'), ('Real', '/content/drive/MyDrive/Group_Project_Data/Valid/Real/img_245.png'), ('Real', '/content/drive/MyDrive/Group_Project_Data/Valid/Real/img_174.png'), ('Real', '/content/drive/MyDrive/Group_Project_Data/Valid/Real/img_478.png')]\n",
            "604\n"
          ]
        }
      ],
      "source": [
        "#collecting all images that is REAL and FAKE galaxies into single list \n",
        "# for algorithm implementation\n",
        "\n",
        "\n",
        "gal_images = []\n",
        "\n",
        "for item in galaxy_types:\n",
        "  all_images = os.listdir('/content/drive/MyDrive/Group_Project_Data/Train' + '/' +item)\n",
        "  \n",
        "  for image in all_images:\n",
        "    gal_images.append((item, str('/content/drive/MyDrive/Group_Project_Data/Train' + '/' +item) + '/' + image))\n",
        "\n",
        "print(gal_images)\n",
        "print(len(gal_images)) # indicating the number of images in the list\n",
        "\n",
        "\n",
        "\n",
        "gal_imagesvalid = []\n",
        "\n",
        "for item in galaxy_typesvalid:\n",
        "  all_images = os.listdir('/content/drive/MyDrive/Group_Project_Data/Valid' + '/' +item)\n",
        "  \n",
        "  for image in all_images:\n",
        "    gal_imagesvalid.append((item, str('/content/drive/MyDrive/Group_Project_Data/Valid' + '/' +item) + '/' + image))\n",
        "\n",
        "print(gal_imagesvalid)\n",
        "print(len(gal_imagesvalid)) # indicating the number of images in the list\n",
        "\n",
        "\n",
        "\n",
        "\n",
        "\n"
      ]
    },
    {
      "cell_type": "code",
      "source": [
        "model.compile(optimizer=Adam(learning_rate=0.0001), loss='categorical_crossentropy', metrics=['accuracy'])"
      ],
      "metadata": {
        "id": "eICsK5pv8ZeM"
      },
      "execution_count": null,
      "outputs": []
    },
    {
      "cell_type": "code",
      "source": [
        "# Build a dataframe of images for Train folder   \n",
        "galimages_df = pd.DataFrame(data=gal_images, columns=['galaxy type(train)', 'image'])\n",
        "print(galimages_df.head())\n",
        "print(galimages_df.tail())\n",
        "\n",
        "# Build a dataframe of images for valid folder   \n",
        "galimagesvalid_df = pd.DataFrame(data=gal_imagesvalid, columns=['galaxy type(valid)', 'image'])\n",
        "print(galimagesvalid_df.head())\n",
        "print(galimagesvalid_df.tail())\n"
      ],
      "metadata": {
        "colab": {
          "base_uri": "https://localhost:8080/"
        },
        "id": "xwPE_4pgASk7",
        "outputId": "ee58c97e-df63-44f5-9af8-22a0d769b36e"
      },
      "execution_count": null,
      "outputs": [
        {
          "output_type": "stream",
          "name": "stdout",
          "text": [
            "Empty DataFrame\n",
            "Columns: [galaxy type(train), image]\n",
            "Index: []\n",
            "Empty DataFrame\n",
            "Columns: [galaxy type(train), image]\n",
            "Index: []\n",
            "  galaxy type(valid)                                              image\n",
            "0               Real  /content/drive/MyDrive/Group_Project_Data/Vali...\n",
            "1               Real  /content/drive/MyDrive/Group_Project_Data/Vali...\n",
            "2               Real  /content/drive/MyDrive/Group_Project_Data/Vali...\n",
            "3               Real  /content/drive/MyDrive/Group_Project_Data/Vali...\n",
            "4               Real  /content/drive/MyDrive/Group_Project_Data/Vali...\n",
            "    galaxy type(valid)                                              image\n",
            "599               Real  /content/drive/MyDrive/Group_Project_Data/Vali...\n",
            "600               Real  /content/drive/MyDrive/Group_Project_Data/Vali...\n",
            "601               Real  /content/drive/MyDrive/Group_Project_Data/Vali...\n",
            "602               Real  /content/drive/MyDrive/Group_Project_Data/Vali...\n",
            "603               Real  /content/drive/MyDrive/Group_Project_Data/Vali...\n"
          ]
        }
      ]
    },
    {
      "cell_type": "code",
      "source": [
        "# Let's check how many samples for each category are present in Train folder\n",
        "print(\"Total number of galaxy images in the dataset(train): \", len(galimages_df))\n",
        "\n",
        "galaxies_count1 = galimages_df['galaxy type(train)'].value_counts()\n",
        "\n",
        "print(\"galaxies in each category: \")\n",
        "print(galaxies_count1)\n",
        "\n",
        "\n",
        "# Let's check how many samples for each category are present in Valid folder\n",
        "\n",
        "print(\"Total number of galaxy images in the dataset(valid): \", len(galimagesvalid_df))\n",
        "\n",
        "galaxies_count2 = galimagesvalid_df['galaxy type(valid)'].value_counts()\n",
        "\n",
        "print(\"galaxies in each category: \")\n",
        "print(galaxies_count2)"
      ],
      "metadata": {
        "colab": {
          "base_uri": "https://localhost:8080/"
        },
        "id": "ffiqS6XWBCFB",
        "outputId": "68f8a4c0-6681-4ff1-cf30-2832d0e3b424"
      },
      "execution_count": null,
      "outputs": [
        {
          "output_type": "stream",
          "name": "stdout",
          "text": [
            "Total number of galaxy images in the dataset(train):  0\n",
            "galaxies in each category: \n",
            "Series([], Name: galaxy type(train), dtype: int64)\n",
            "Total number of galaxy images in the dataset(valid):  604\n",
            "galaxies in each category: \n",
            "Real    604\n",
            "Name: galaxy type(valid), dtype: int64\n"
          ]
        }
      ]
    },
    {
      "cell_type": "code",
      "source": [
        "!pip install opencv-python-headless --upgrade"
      ],
      "metadata": {
        "colab": {
          "base_uri": "https://localhost:8080/"
        },
        "id": "xDQlDD4REsee",
        "outputId": "6368c1b0-9e05-4131-8cbb-e7a75806106a"
      },
      "execution_count": null,
      "outputs": [
        {
          "output_type": "stream",
          "name": "stdout",
          "text": [
            "Looking in indexes: https://pypi.org/simple, https://us-python.pkg.dev/colab-wheels/public/simple/\n",
            "Requirement already satisfied: opencv-python-headless in /usr/local/lib/python3.9/dist-packages (4.7.0.72)\n",
            "Requirement already satisfied: numpy>=1.17.0 in /usr/local/lib/python3.9/dist-packages (from opencv-python-headless) (1.22.4)\n"
          ]
        }
      ]
    },
    {
      "cell_type": "code",
      "source": [
        "#resizing images for the algorithm implementation for Training dataset\n",
        "import cv2\n",
        "\n",
        "path_real = '/content/drive/MyDrive/Group_Project_Data/Train/Real'\n",
        "path_fake = '/content/drive/MyDrive/Group_Project_Data/Train/Fake'\n",
        "im_size = 224\n",
        "\n",
        "\n",
        "images = []\n",
        "labels = []\n",
        "#process for real images\n",
        "for f in os.listdir(path_real):\n",
        "    if f.endswith('.jpg') or f.endswith('.jpeg') or f.endswith('.png'): # check file extension\n",
        "        img = Image.open(os.path.join(path_real, f))\n",
        "        img = np.array(img.resize((im_size, im_size)))\n",
        "        images.append(img)\n",
        "        labels.append(\"Real\")\n",
        "\n",
        "# process fake images\n",
        "for f in os.listdir(path_fake):\n",
        "    if f.endswith('.jpg') or f.endswith('.jpeg') or f.endswith('.png'): # check file extension\n",
        "        img = Image.open(os.path.join(path_fake, f))\n",
        "        img = np.array(img.resize((im_size, im_size)))\n",
        "        images.append(img)\n",
        "        labels.append(\"fake\")\n"
      ],
      "metadata": {
        "id": "5aELApe6ByXM"
      },
      "execution_count": null,
      "outputs": []
    },
    {
      "cell_type": "code",
      "source": [
        "#resizing images for the algorithm implementation for Validation dataset\n",
        "import cv2\n",
        "\n",
        "path_real2 = '/content/drive/MyDrive/Group_Project_Data/Valid/Real'\n",
        "path_fake2 = '/content/drive/MyDrive/Group_Project_Data/Valid/Fake'\n",
        "im_size = 224\n",
        "\n",
        "\n",
        "images2 = []\n",
        "labels2 = []\n",
        "#process for real images\n",
        "for f in os.listdir(path_real2):\n",
        "    if f.endswith('.jpg') or f.endswith('.jpeg') or f.endswith('.png'): # check file extension\n",
        "        img = Image.open(os.path.join(path_real2, f))\n",
        "        img = np.array(img.resize((im_size, im_size)))\n",
        "        images2.append(img)\n",
        "        labels2.append(\"Real\")\n",
        "\n",
        "# process fake images\n",
        "for f in os.listdir(path_fake2):\n",
        "    if f.endswith('.jpg') or f.endswith('.jpeg') or f.endswith('.png'): # check file extension\n",
        "        img = Image.open(os.path.join(path_fake2, f))\n",
        "        img = np.array(img.resize((im_size, im_size)))\n",
        "        images2.append(img)\n",
        "        labels2.append(\"fake\")"
      ],
      "metadata": {
        "id": "xl5Uo9Lhp-Bm"
      },
      "execution_count": null,
      "outputs": []
    },
    {
      "cell_type": "code",
      "source": [
        "#converting into arrays because algorithm understands array\n",
        "\n",
        "images = np.array(images)\n",
        "\n",
        "images = images.astype('float32') / 255.0   #pixel intensity 0-225 so dividing it\n",
        "print(images.shape)\n",
        "\n",
        "#converting into arrays because algorithm understands array(validation)\n",
        "\n",
        "imagesvalid = np.array(images2)\n",
        "imagesvalid = imagesvalid.astype('float32') / 255.0  #pixel intensity 0-225 so dividing it\n",
        "imagesvalid.shape\n",
        "\n",
        "\n"
      ],
      "metadata": {
        "colab": {
          "base_uri": "https://localhost:8080/"
        },
        "id": "5UB-YmEVE9U1",
        "outputId": "6a75821e-fbe1-4819-f99a-f1e4d8900fa9"
      },
      "execution_count": null,
      "outputs": [
        {
          "output_type": "stream",
          "name": "stdout",
          "text": [
            "(0,)\n"
          ]
        },
        {
          "output_type": "execute_result",
          "data": {
            "text/plain": [
              "(1869, 224, 224)"
            ]
          },
          "metadata": {},
          "execution_count": 17
        }
      ]
    },
    {
      "cell_type": "code",
      "source": [
        "#performing label and one hot enconding on the dataset to convert string data\n",
        "# i.e galaxy type coloumn into 0's and 1's\n",
        "\n",
        "\n",
        "y_tr=galimages_df['galaxy type(train)'].values\n",
        "\n",
        "\n",
        "y_tr_labelencoder = LabelEncoder ()\n",
        "y_tr = y_tr_labelencoder.fit_transform (y_tr)\n",
        "indices = np.random.choice(len(y_tr), size=0, replace=False)\n",
        "y_tr = np.delete(y_tr, indices)\n",
        "print (y_tr)\n",
        "print(y_tr.shape)\n",
        "\n",
        "\n",
        "y_tes=galimagesvalid_df['galaxy type(valid)'].values\n",
        "\n",
        "\n",
        "y_tes_labelencoder = LabelEncoder ()\n",
        "y_tes = y_tes_labelencoder.fit_transform (y_tes)\n",
        "indices = np.random.choice(len(y_tes), size=1, replace=False)\n",
        "y_tes = np.delete(y_tes, indices)\n",
        "print (y_tes)\n",
        "print(y_tes.shape)\n",
        "\n",
        "\n"
      ],
      "metadata": {
        "colab": {
          "base_uri": "https://localhost:8080/"
        },
        "id": "QyoOsXY1HLSG",
        "outputId": "77010580-230f-4989-d421-ac8cab43a358"
      },
      "execution_count": null,
      "outputs": [
        {
          "output_type": "stream",
          "name": "stdout",
          "text": [
            "[]\n",
            "(0,)\n",
            "[0 0 0 0 0 0 0 0 0 0 0 0 0 0 0 0 0 0 0 0 0 0 0 0 0 0 0 0 0 0 0 0 0 0 0 0 0\n",
            " 0 0 0 0 0 0 0 0 0 0 0 0 0 0 0 0 0 0 0 0 0 0 0 0 0 0 0 0 0 0 0 0 0 0 0 0 0\n",
            " 0 0 0 0 0 0 0 0 0 0 0 0 0 0 0 0 0 0 0 0 0 0 0 0 0 0 0 0 0 0 0 0 0 0 0 0 0\n",
            " 0 0 0 0 0 0 0 0 0 0 0 0 0 0 0 0 0 0 0 0 0 0 0 0 0 0 0 0 0 0 0 0 0 0 0 0 0\n",
            " 0 0 0 0 0 0 0 0 0 0 0 0 0 0 0 0 0 0 0 0 0 0 0 0 0 0 0 0 0 0 0 0 0 0 0 0 0\n",
            " 0 0 0 0 0 0 0 0 0 0 0 0 0 0 0 0 0 0 0 0 0 0 0 0 0 0 0 0 0 0 0 0 0 0 0 0 0\n",
            " 0 0 0 0 0 0 0 0 0 0 0 0 0 0 0 0 0 0 0 0 0 0 0 0 0 0 0 0 0 0 0 0 0 0 0 0 0\n",
            " 0 0 0 0 0 0 0 0 0 0 0 0 0 0 0 0 0 0 0 0 0 0 0 0 0 0 0 0 0 0 0 0 0 0 0 0 0\n",
            " 0 0 0 0 0 0 0 0 0 0 0 0 0 0 0 0 0 0 0 0 0 0 0 0 0 0 0 0 0 0 0 0 0 0 0 0 0\n",
            " 0 0 0 0 0 0 0 0 0 0 0 0 0 0 0 0 0 0 0 0 0 0 0 0 0 0 0 0 0 0 0 0 0 0 0 0 0\n",
            " 0 0 0 0 0 0 0 0 0 0 0 0 0 0 0 0 0 0 0 0 0 0 0 0 0 0 0 0 0 0 0 0 0 0 0 0 0\n",
            " 0 0 0 0 0 0 0 0 0 0 0 0 0 0 0 0 0 0 0 0 0 0 0 0 0 0 0 0 0 0 0 0 0 0 0 0 0\n",
            " 0 0 0 0 0 0 0 0 0 0 0 0 0 0 0 0 0 0 0 0 0 0 0 0 0 0 0 0 0 0 0 0 0 0 0 0 0\n",
            " 0 0 0 0 0 0 0 0 0 0 0 0 0 0 0 0 0 0 0 0 0 0 0 0 0 0 0 0 0 0 0 0 0 0 0 0 0\n",
            " 0 0 0 0 0 0 0 0 0 0 0 0 0 0 0 0 0 0 0 0 0 0 0 0 0 0 0 0 0 0 0 0 0 0 0 0 0\n",
            " 0 0 0 0 0 0 0 0 0 0 0 0 0 0 0 0 0 0 0 0 0 0 0 0 0 0 0 0 0 0 0 0 0 0 0 0 0\n",
            " 0 0 0 0 0 0 0 0 0 0 0]\n",
            "(603,)\n"
          ]
        }
      ]
    },
    {
      "cell_type": "code",
      "source": [
        "from sklearn.compose import ColumnTransformer\n",
        "from sklearn.preprocessing import OneHotEncoder\n",
        "\n",
        "y_tr = y_tr.reshape(-1, 1)\n",
        "ct = ColumnTransformer([('one_hot_encoder', OneHotEncoder(), [0])])#Converted  scalar output into vector output \n",
        "                                                                   #where the correct class will be 1 and other will be 0\n",
        "Y = ct.fit_transform(y_tr)\n",
        "Y = Y.astype('float32') / 255.0 \n",
        "print(Y.shape)\n",
        "\n",
        "y_tes = y_tes.reshape(-1, 1)\n",
        "CT = ColumnTransformer([('one_hot_encoder', OneHotEncoder(), [0])])\n",
        "Y_T = CT.fit_transform(y_tes)\n",
        "Y_T = Y_T.astype('float32') / 255.0\n",
        "print(Y_T.shape)\n",
        "\n",
        "\n"
      ],
      "metadata": {
        "colab": {
          "base_uri": "https://localhost:8080/"
        },
        "id": "OVdpGAHaHvaa",
        "outputId": "bccf6781-c78a-4633-bab8-81868a671afe"
      },
      "execution_count": null,
      "outputs": [
        {
          "output_type": "stream",
          "name": "stdout",
          "text": [
            "(6034, 2)\n",
            "(2000, 2)\n"
          ]
        }
      ]
    },
    {
      "cell_type": "code",
      "source": [],
      "metadata": {
        "id": "q_18jLOk6lF8"
      },
      "execution_count": null,
      "outputs": []
    },
    {
      "cell_type": "code",
      "source": [
        "from sklearn.utils import shuffle\n",
        "from sklearn.model_selection import train_test_split\n",
        "\n",
        "images, Y = shuffle(images, Y, random_state=1)\n",
        "x_train, x_test, y_train, y_test = train_test_split(images, Y, test_size=0.05, random_state=415)\n",
        "\n",
        "#inspect the shape of the training and testing.\n",
        "print(x_train.shape)\n",
        "print(y_train.shape)\n",
        "print(x_test.shape)\n",
        "print(y_test.shape)\n"
      ],
      "metadata": {
        "colab": {
          "base_uri": "https://localhost:8080/"
        },
        "id": "O-3GDXGskb3w",
        "outputId": "7a950707-3ccf-4446-a6eb-bcbbfe7f2ca8"
      },
      "execution_count": null,
      "outputs": [
        {
          "output_type": "stream",
          "name": "stdout",
          "text": [
            "(5732, 224, 224)\n",
            "(5732, 2)\n",
            "(302, 224, 224)\n",
            "(302, 2)\n"
          ]
        }
      ]
    },
    {
      "cell_type": "code",
      "source": [],
      "metadata": {
        "id": "BLYIZX0x5B1U"
      },
      "execution_count": null,
      "outputs": []
    },
    {
      "cell_type": "code",
      "source": [],
      "metadata": {
        "id": "rq4UlWYJp6Z4"
      },
      "execution_count": null,
      "outputs": []
    },
    {
      "cell_type": "code",
      "source": [
        "#training code\n",
        "history = model.fit(x_train, y_train, epochs = 10, batch_size = 32, validation_data=(x_test,y_test))\n"
      ],
      "metadata": {
        "id": "URFBxxjoJEze"
      },
      "execution_count": null,
      "outputs": []
    },
    {
      "cell_type": "code",
      "source": [
        "preds = model.evaluate(test_x, test_y)\n",
        "print(\"Loss = \" + str(preds))"
      ],
      "metadata": {
        "colab": {
          "base_uri": "https://localhost:8080/"
        },
        "id": "AxtSMQI4f_HY",
        "outputId": "0f59755e-afaa-4a0d-b7f1-061536649313"
      },
      "execution_count": null,
      "outputs": [
        {
          "output_type": "stream",
          "name": "stdout",
          "text": [
            "10/10 [==============================] - 3s 333ms/step - loss: 0.6930\n",
            "Loss = 0.6930264830589294\n"
          ]
        }
      ]
    },
    {
      "cell_type": "code",
      "source": [],
      "metadata": {
        "id": "rx2o_OLiltbi"
      },
      "execution_count": null,
      "outputs": []
    },
    {
      "cell_type": "code",
      "execution_count": null,
      "metadata": {
        "colab": {
          "base_uri": "https://localhost:8080/"
        },
        "id": "ck5WqmgOo9T2",
        "outputId": "7f47360b-fba9-48f4-adde-a91ff023bb1b"
      },
      "outputs": [
        {
          "name": "stdout",
          "output_type": "stream",
          "text": [
            "Epoch 1/5\n",
            "16/16 [==============================] - 1s 2ms/step - loss: 5.8980\n",
            "Epoch 2/5\n",
            "16/16 [==============================] - 0s 2ms/step - loss: 5.8122\n",
            "Epoch 3/5\n",
            "16/16 [==============================] - 0s 2ms/step - loss: 5.7868\n",
            "Epoch 4/5\n",
            "16/16 [==============================] - 0s 2ms/step - loss: 5.7738\n",
            "Epoch 5/5\n",
            "16/16 [==============================] - 0s 2ms/step - loss: 5.7673\n"
          ]
        },
        {
          "data": {
            "text/plain": [
              "<keras.callbacks.History at 0x7f7ce821bd30>"
            ]
          },
          "execution_count": 14,
          "metadata": {},
          "output_type": "execute_result"
        }
      ],
      "source": [
        "# Dummy Training Code\n",
        "\n",
        "x_train = tf.random.normal((1024,64), dtype='float32')\n",
        "y_train = tf.cast(tf.random.categorical(tf.math.log([[0.5, 0.5]]), 1024)[0], 'float32')\n",
        "\n",
        "our_model.compile(optimizer='adam', loss=tf.keras.losses.BinaryCrossentropy())\n",
        "\n",
        "our_model.fit(x_train, y_train, epochs=5, batch_size=64)"
      ]
    },
    {
      "cell_type": "code",
      "execution_count": null,
      "metadata": {
        "id": "UICItD_dobFp"
      },
      "outputs": [],
      "source": [
        "# Saving your model\n",
        "\n",
        "our_model.save('/content/Group_X_Model_Trained')"
      ]
    },
    {
      "cell_type": "code",
      "execution_count": null,
      "metadata": {
        "colab": {
          "base_uri": "https://localhost:8080/"
        },
        "id": "MCEZ79GPotZ0",
        "outputId": "b7cc8c06-70ff-4b00-ec54-5e3aeed81241"
      },
      "outputs": [
        {
          "name": "stdout",
          "output_type": "stream",
          "text": [
            "Model: \"sequential\"\n",
            "_________________________________________________________________\n",
            " Layer (type)                Output Shape              Param #   \n",
            "=================================================================\n",
            " dense (Dense)               (None, 1)                 65        \n",
            "                                                                 \n",
            "=================================================================\n",
            "Total params: 65\n",
            "Trainable params: 65\n",
            "Non-trainable params: 0\n",
            "_________________________________________________________________\n"
          ]
        }
      ],
      "source": [
        "# Test saved model\n",
        "\n",
        "loaded_model = tf.keras.models.load_model('/content/Group_X_Model_Trained')\n",
        "loaded_model.summary()"
      ]
    },
    {
      "cell_type": "code",
      "execution_count": null,
      "metadata": {
        "colab": {
          "base_uri": "https://localhost:8080/"
        },
        "id": "ygEz3IZ1qqS5",
        "outputId": "6743d822-a5e5-44f9-865f-fc46f29a428f"
      },
      "outputs": [
        {
          "name": "stdout",
          "output_type": "stream",
          "text": [
            "  adding: content/Group_X_Model_Trained/ (stored 0%)\n",
            "  adding: content/Group_X_Model_Trained/variables/ (stored 0%)\n",
            "  adding: content/Group_X_Model_Trained/variables/variables.index (deflated 51%)\n",
            "  adding: content/Group_X_Model_Trained/variables/variables.data-00000-of-00001 (deflated 54%)\n",
            "  adding: content/Group_X_Model_Trained/saved_model.pb (deflated 85%)\n",
            "  adding: content/Group_X_Model_Trained/assets/ (stored 0%)\n",
            "  adding: content/Group_X_Model_Trained/keras_metadata.pb (deflated 77%)\n"
          ]
        }
      ],
      "source": [
        "# zip the model\n",
        "!zip -r /content/Group_X_Model_Trained.zip /content/Group_X_Model_Trained"
      ]
    }
  ],
  "metadata": {
    "accelerator": "GPU",
    "colab": {
      "provenance": []
    },
    "gpuClass": "standard",
    "kernelspec": {
      "display_name": "Python 3",
      "name": "python3"
    },
    "language_info": {
      "name": "python"
    }
  },
  "nbformat": 4,
  "nbformat_minor": 0
}